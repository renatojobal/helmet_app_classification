{
  "cells": [
    {
      "cell_type": "markdown",
      "metadata": {
        "id": "h2q27gKz1H20"
      },
      "source": [
        "##### Copyright 2020 The TensorFlow Authors."
      ]
    },
    {
      "cell_type": "code",
      "execution_count": null,
      "metadata": {
        "cellView": "form",
        "id": "TUfAcER1oUS6"
      },
      "outputs": [],
      "source": [
        "#@title Licensed under the Apache License, Version 2.0 (the \"License\");\n",
        "# you may not use this file except in compliance with the License.\n",
        "# You may obtain a copy of the License at\n",
        "#\n",
        "# https://www.apache.org/licenses/LICENSE-2.0\n",
        "#\n",
        "# Unless required by applicable law or agreed to in writing, software\n",
        "# distributed under the License is distributed on an \"AS IS\" BASIS,\n",
        "# WITHOUT WARRANTIES OR CONDITIONS OF ANY KIND, either express or implied.\n",
        "# See the License for the specific language governing permissions and\n",
        "# limitations under the License."
      ]
    },
    {
      "cell_type": "markdown",
      "metadata": {
        "id": "Gb7qyhNL1yWt"
      },
      "source": [
        "# Flower classification with TensorFlow Lite Model Maker with TensorFlow 2.0"
      ]
    },
    {
      "cell_type": "markdown",
      "metadata": {
        "id": "nDABAblytltI"
      },
      "source": [
        "<table class=\"tfo-notebook-buttons\" align=\"left\">\n",
        "  <td>\n",
        "    <a target=\"_blank\" href=\"https://colab.research.google.com/github/tensorflow/examples/blob/master/lite/codelabs/flower_classification/ml/Flower_Classification_with_TFLite_Model_Maker.ipynb\">      \n",
        "    <img src=\"https://www.tensorflow.org/images/colab_logo_32px.png\" />\n",
        "    Run in Google Colab</a>\n",
        "  </td>\n",
        "  <td>\n",
        "    <a target=\"_blank\" href=\"https://github.com/tensorflow/examples/blob/master/lite/codelabs/flower_classification/ml/Flower_Classification_with_TFLite_Model_Maker.ipynb\">\n",
        "    <img src=\"https://www.tensorflow.org/images/GitHub-Mark-32px.png\" />\n",
        "    View source on GitHub</a>\n",
        "  </td>\n",
        "</table>"
      ]
    },
    {
      "cell_type": "markdown",
      "metadata": {
        "id": "m86-Nh4pMHqY"
      },
      "source": [
        "Model Maker library simplifies the process of adapting and converting a TensorFlow neural-network model to particular input data when deploying this model for on-device ML applications.\n",
        "\n",
        "This notebook shows an end-to-end example that utilizes this Model Maker library to illustrate the adaption and conversion of a commonly-used image classification model to classify flowers on a mobile device."
      ]
    },
    {
      "cell_type": "markdown",
      "metadata": {
        "id": "bcLF2PKkSbV3"
      },
      "source": [
        "## Prerequisites\n",
        "\n",
        "To run this example, we first need to install serveral required packages, including Model Maker package that in github [repo](https://github.com/tensorflow/examples/tree/master/tensorflow_examples/lite/model_maker)."
      ]
    },
    {
      "cell_type": "code",
      "execution_count": 1,
      "metadata": {
        "id": "6cv3K3oaksJv",
        "outputId": "79cf6678-6ec6-45d8-8eb9-c592df796182",
        "colab": {
          "base_uri": "https://localhost:8080/",
          "height": 1000
        }
      },
      "outputs": [
        {
          "output_type": "stream",
          "name": "stdout",
          "text": [
            "Looking in indexes: https://pypi.org/simple, https://us-python.pkg.dev/colab-wheels/public/simple/\n",
            "Collecting tflite-model-maker\n",
            "  Downloading tflite_model_maker-0.4.1-py3-none-any.whl (642 kB)\n",
            "\u001b[K     |████████████████████████████████| 642 kB 34.3 MB/s \n",
            "\u001b[?25hRequirement already satisfied: matplotlib<3.5.0,>=3.0.3 in /usr/local/lib/python3.7/dist-packages (from tflite-model-maker) (3.2.2)\n",
            "Collecting sentencepiece>=0.1.91\n",
            "  Downloading sentencepiece-0.1.96-cp37-cp37m-manylinux_2_17_x86_64.manylinux2014_x86_64.whl (1.2 MB)\n",
            "\u001b[K     |████████████████████████████████| 1.2 MB 59.9 MB/s \n",
            "\u001b[?25hRequirement already satisfied: tensorflow-datasets>=2.1.0 in /usr/local/lib/python3.7/dist-packages (from tflite-model-maker) (4.0.1)\n",
            "Collecting tensorflow-model-optimization>=0.5\n",
            "  Downloading tensorflow_model_optimization-0.7.2-py2.py3-none-any.whl (237 kB)\n",
            "\u001b[K     |████████████████████████████████| 237 kB 50.8 MB/s \n",
            "\u001b[?25hCollecting neural-structured-learning>=1.3.1\n",
            "  Downloading neural_structured_learning-1.3.1-py2.py3-none-any.whl (120 kB)\n",
            "\u001b[K     |████████████████████████████████| 120 kB 73.1 MB/s \n",
            "\u001b[?25hRequirement already satisfied: Cython>=0.29.13 in /usr/local/lib/python3.7/dist-packages (from tflite-model-maker) (0.29.30)\n",
            "Requirement already satisfied: six>=1.12.0 in /usr/local/lib/python3.7/dist-packages (from tflite-model-maker) (1.15.0)\n",
            "Requirement already satisfied: tensorflow-hub<0.13,>=0.7.0 in /usr/local/lib/python3.7/dist-packages (from tflite-model-maker) (0.12.0)\n",
            "Collecting fire>=0.3.1\n",
            "  Downloading fire-0.4.0.tar.gz (87 kB)\n",
            "\u001b[K     |████████████████████████████████| 87 kB 6.7 MB/s \n",
            "\u001b[?25hCollecting flatbuffers==1.12\n",
            "  Downloading flatbuffers-1.12-py2.py3-none-any.whl (15 kB)\n",
            "Collecting scann==1.2.6\n",
            "  Downloading scann-1.2.6-cp37-cp37m-manylinux2014_x86_64.whl (10.9 MB)\n",
            "\u001b[K     |████████████████████████████████| 10.9 MB 57.1 MB/s \n",
            "\u001b[?25hCollecting numba==0.53\n",
            "  Downloading numba-0.53.0-cp37-cp37m-manylinux2014_x86_64.whl (3.4 MB)\n",
            "\u001b[K     |████████████████████████████████| 3.4 MB 45.3 MB/s \n",
            "\u001b[?25hCollecting lxml>=4.6.1\n",
            "  Downloading lxml-4.9.0-cp37-cp37m-manylinux_2_17_x86_64.manylinux2014_x86_64.manylinux_2_24_x86_64.whl (6.4 MB)\n",
            "\u001b[K     |████████████████████████████████| 6.4 MB 43.4 MB/s \n",
            "\u001b[?25hRequirement already satisfied: absl-py>=0.10.0 in /usr/local/lib/python3.7/dist-packages (from tflite-model-maker) (1.1.0)\n",
            "Collecting tensorflow-addons>=0.11.2\n",
            "  Downloading tensorflow_addons-0.17.1-cp37-cp37m-manylinux_2_17_x86_64.manylinux2014_x86_64.whl (1.1 MB)\n",
            "\u001b[K     |████████████████████████████████| 1.1 MB 62.6 MB/s \n",
            "\u001b[?25hRequirement already satisfied: librosa==0.8.1 in /usr/local/lib/python3.7/dist-packages (from tflite-model-maker) (0.8.1)\n",
            "Requirement already satisfied: urllib3!=1.25.0,!=1.25.1,<1.26,>=1.21.1 in /usr/local/lib/python3.7/dist-packages (from tflite-model-maker) (1.24.3)\n",
            "Collecting tf-models-official==2.3.0\n",
            "  Downloading tf_models_official-2.3.0-py2.py3-none-any.whl (840 kB)\n",
            "\u001b[K     |████████████████████████████████| 840 kB 63.6 MB/s \n",
            "\u001b[?25hCollecting tensorflowjs>=2.4.0\n",
            "  Downloading tensorflowjs-3.18.0-py3-none-any.whl (77 kB)\n",
            "\u001b[K     |████████████████████████████████| 77 kB 6.8 MB/s \n",
            "\u001b[?25hCollecting tflite-support-nightly\n",
            "  Downloading tflite_support_nightly-0.4.0.dev20220628-cp37-cp37m-manylinux2014_x86_64.whl (42.6 MB)\n",
            "\u001b[K     |████████████████████████████████| 42.6 MB 1.8 MB/s \n",
            "\u001b[?25hCollecting PyYAML>=5.1\n",
            "  Downloading PyYAML-6.0-cp37-cp37m-manylinux_2_5_x86_64.manylinux1_x86_64.manylinux_2_12_x86_64.manylinux2010_x86_64.whl (596 kB)\n",
            "\u001b[K     |████████████████████████████████| 596 kB 60.7 MB/s \n",
            "\u001b[?25hRequirement already satisfied: numpy>=1.17.3 in /usr/local/lib/python3.7/dist-packages (from tflite-model-maker) (1.21.6)\n",
            "Requirement already satisfied: tensorflow>=2.6.0 in /usr/local/lib/python3.7/dist-packages (from tflite-model-maker) (2.8.2+zzzcolab20220527125636)\n",
            "Requirement already satisfied: pillow>=7.0.0 in /usr/local/lib/python3.7/dist-packages (from tflite-model-maker) (7.1.2)\n",
            "Requirement already satisfied: joblib>=0.14 in /usr/local/lib/python3.7/dist-packages (from librosa==0.8.1->tflite-model-maker) (1.1.0)\n",
            "Requirement already satisfied: decorator>=3.0.0 in /usr/local/lib/python3.7/dist-packages (from librosa==0.8.1->tflite-model-maker) (4.4.2)\n",
            "Requirement already satisfied: scikit-learn!=0.19.0,>=0.14.0 in /usr/local/lib/python3.7/dist-packages (from librosa==0.8.1->tflite-model-maker) (1.0.2)\n",
            "Requirement already satisfied: audioread>=2.0.0 in /usr/local/lib/python3.7/dist-packages (from librosa==0.8.1->tflite-model-maker) (2.1.9)\n",
            "Requirement already satisfied: pooch>=1.0 in /usr/local/lib/python3.7/dist-packages (from librosa==0.8.1->tflite-model-maker) (1.6.0)\n",
            "Requirement already satisfied: soundfile>=0.10.2 in /usr/local/lib/python3.7/dist-packages (from librosa==0.8.1->tflite-model-maker) (0.10.3.post1)\n",
            "Requirement already satisfied: packaging>=20.0 in /usr/local/lib/python3.7/dist-packages (from librosa==0.8.1->tflite-model-maker) (21.3)\n",
            "Requirement already satisfied: resampy>=0.2.2 in /usr/local/lib/python3.7/dist-packages (from librosa==0.8.1->tflite-model-maker) (0.2.2)\n",
            "Requirement already satisfied: scipy>=1.0.0 in /usr/local/lib/python3.7/dist-packages (from librosa==0.8.1->tflite-model-maker) (1.4.1)\n",
            "Requirement already satisfied: setuptools in /usr/local/lib/python3.7/dist-packages (from numba==0.53->tflite-model-maker) (57.4.0)\n",
            "Collecting llvmlite<0.37,>=0.36.0rc1\n",
            "  Downloading llvmlite-0.36.0-cp37-cp37m-manylinux2010_x86_64.whl (25.3 MB)\n",
            "\u001b[K     |████████████████████████████████| 25.3 MB 1.2 MB/s \n",
            "\u001b[?25hRequirement already satisfied: gin-config in /usr/local/lib/python3.7/dist-packages (from tf-models-official==2.3.0->tflite-model-maker) (0.5.0)\n",
            "Collecting dataclasses\n",
            "  Downloading dataclasses-0.6-py3-none-any.whl (14 kB)\n",
            "Collecting py-cpuinfo>=3.3.0\n",
            "  Downloading py-cpuinfo-8.0.0.tar.gz (99 kB)\n",
            "\u001b[K     |████████████████████████████████| 99 kB 11.2 MB/s \n",
            "\u001b[?25hRequirement already satisfied: google-cloud-bigquery>=0.31.0 in /usr/local/lib/python3.7/dist-packages (from tf-models-official==2.3.0->tflite-model-maker) (1.21.0)\n",
            "Requirement already satisfied: google-api-python-client>=1.6.7 in /usr/local/lib/python3.7/dist-packages (from tf-models-official==2.3.0->tflite-model-maker) (1.12.11)\n",
            "Requirement already satisfied: kaggle>=1.3.9 in /usr/local/lib/python3.7/dist-packages (from tf-models-official==2.3.0->tflite-model-maker) (1.5.12)\n",
            "Requirement already satisfied: pandas>=0.22.0 in /usr/local/lib/python3.7/dist-packages (from tf-models-official==2.3.0->tflite-model-maker) (1.3.5)\n",
            "Collecting tf-slim>=1.1.0\n",
            "  Downloading tf_slim-1.1.0-py2.py3-none-any.whl (352 kB)\n",
            "\u001b[K     |████████████████████████████████| 352 kB 67.5 MB/s \n",
            "\u001b[?25hCollecting opencv-python-headless\n",
            "  Downloading opencv_python_headless-4.6.0.66-cp36-abi3-manylinux_2_17_x86_64.manylinux2014_x86_64.whl (48.3 MB)\n",
            "\u001b[K     |████████████████████████████████| 48.3 MB 89 kB/s \n",
            "\u001b[?25hRequirement already satisfied: psutil>=5.4.3 in /usr/local/lib/python3.7/dist-packages (from tf-models-official==2.3.0->tflite-model-maker) (5.4.8)\n",
            "Requirement already satisfied: termcolor in /usr/local/lib/python3.7/dist-packages (from fire>=0.3.1->tflite-model-maker) (1.1.0)\n",
            "Requirement already satisfied: httplib2<1dev,>=0.15.0 in /usr/local/lib/python3.7/dist-packages (from google-api-python-client>=1.6.7->tf-models-official==2.3.0->tflite-model-maker) (0.17.4)\n",
            "Requirement already satisfied: google-auth<3dev,>=1.16.0 in /usr/local/lib/python3.7/dist-packages (from google-api-python-client>=1.6.7->tf-models-official==2.3.0->tflite-model-maker) (1.35.0)\n",
            "Requirement already satisfied: google-auth-httplib2>=0.0.3 in /usr/local/lib/python3.7/dist-packages (from google-api-python-client>=1.6.7->tf-models-official==2.3.0->tflite-model-maker) (0.0.4)\n",
            "Requirement already satisfied: uritemplate<4dev,>=3.0.0 in /usr/local/lib/python3.7/dist-packages (from google-api-python-client>=1.6.7->tf-models-official==2.3.0->tflite-model-maker) (3.0.1)\n",
            "Requirement already satisfied: google-api-core<3dev,>=1.21.0 in /usr/local/lib/python3.7/dist-packages (from google-api-python-client>=1.6.7->tf-models-official==2.3.0->tflite-model-maker) (1.31.6)\n",
            "Requirement already satisfied: googleapis-common-protos<2.0dev,>=1.6.0 in /usr/local/lib/python3.7/dist-packages (from google-api-core<3dev,>=1.21.0->google-api-python-client>=1.6.7->tf-models-official==2.3.0->tflite-model-maker) (1.56.2)\n",
            "Requirement already satisfied: protobuf<4.0.0dev,>=3.12.0 in /usr/local/lib/python3.7/dist-packages (from google-api-core<3dev,>=1.21.0->google-api-python-client>=1.6.7->tf-models-official==2.3.0->tflite-model-maker) (3.17.3)\n",
            "Requirement already satisfied: pytz in /usr/local/lib/python3.7/dist-packages (from google-api-core<3dev,>=1.21.0->google-api-python-client>=1.6.7->tf-models-official==2.3.0->tflite-model-maker) (2022.1)\n",
            "Requirement already satisfied: requests<3.0.0dev,>=2.18.0 in /usr/local/lib/python3.7/dist-packages (from google-api-core<3dev,>=1.21.0->google-api-python-client>=1.6.7->tf-models-official==2.3.0->tflite-model-maker) (2.23.0)\n",
            "Requirement already satisfied: pyasn1-modules>=0.2.1 in /usr/local/lib/python3.7/dist-packages (from google-auth<3dev,>=1.16.0->google-api-python-client>=1.6.7->tf-models-official==2.3.0->tflite-model-maker) (0.2.8)\n",
            "Requirement already satisfied: rsa<5,>=3.1.4 in /usr/local/lib/python3.7/dist-packages (from google-auth<3dev,>=1.16.0->google-api-python-client>=1.6.7->tf-models-official==2.3.0->tflite-model-maker) (4.8)\n",
            "Requirement already satisfied: cachetools<5.0,>=2.0.0 in /usr/local/lib/python3.7/dist-packages (from google-auth<3dev,>=1.16.0->google-api-python-client>=1.6.7->tf-models-official==2.3.0->tflite-model-maker) (4.2.4)\n",
            "Requirement already satisfied: google-cloud-core<2.0dev,>=1.0.3 in /usr/local/lib/python3.7/dist-packages (from google-cloud-bigquery>=0.31.0->tf-models-official==2.3.0->tflite-model-maker) (1.0.3)\n",
            "Requirement already satisfied: google-resumable-media!=0.4.0,<0.5.0dev,>=0.3.1 in /usr/local/lib/python3.7/dist-packages (from google-cloud-bigquery>=0.31.0->tf-models-official==2.3.0->tflite-model-maker) (0.4.1)\n",
            "Requirement already satisfied: tqdm in /usr/local/lib/python3.7/dist-packages (from kaggle>=1.3.9->tf-models-official==2.3.0->tflite-model-maker) (4.64.0)\n",
            "Requirement already satisfied: python-dateutil in /usr/local/lib/python3.7/dist-packages (from kaggle>=1.3.9->tf-models-official==2.3.0->tflite-model-maker) (2.8.2)\n",
            "Requirement already satisfied: certifi in /usr/local/lib/python3.7/dist-packages (from kaggle>=1.3.9->tf-models-official==2.3.0->tflite-model-maker) (2022.6.15)\n",
            "Requirement already satisfied: python-slugify in /usr/local/lib/python3.7/dist-packages (from kaggle>=1.3.9->tf-models-official==2.3.0->tflite-model-maker) (6.1.2)\n",
            "Requirement already satisfied: kiwisolver>=1.0.1 in /usr/local/lib/python3.7/dist-packages (from matplotlib<3.5.0,>=3.0.3->tflite-model-maker) (1.4.3)\n",
            "Requirement already satisfied: pyparsing!=2.0.4,!=2.1.2,!=2.1.6,>=2.0.1 in /usr/local/lib/python3.7/dist-packages (from matplotlib<3.5.0,>=3.0.3->tflite-model-maker) (3.0.9)\n",
            "Requirement already satisfied: cycler>=0.10 in /usr/local/lib/python3.7/dist-packages (from matplotlib<3.5.0,>=3.0.3->tflite-model-maker) (0.11.0)\n",
            "Requirement already satisfied: typing-extensions in /usr/local/lib/python3.7/dist-packages (from kiwisolver>=1.0.1->matplotlib<3.5.0,>=3.0.3->tflite-model-maker) (4.1.1)\n",
            "Requirement already satisfied: attrs in /usr/local/lib/python3.7/dist-packages (from neural-structured-learning>=1.3.1->tflite-model-maker) (21.4.0)\n",
            "Requirement already satisfied: appdirs>=1.3.0 in /usr/local/lib/python3.7/dist-packages (from pooch>=1.0->librosa==0.8.1->tflite-model-maker) (1.4.4)\n",
            "Requirement already satisfied: pyasn1<0.5.0,>=0.4.6 in /usr/local/lib/python3.7/dist-packages (from pyasn1-modules>=0.2.1->google-auth<3dev,>=1.16.0->google-api-python-client>=1.6.7->tf-models-official==2.3.0->tflite-model-maker) (0.4.8)\n",
            "Requirement already satisfied: idna<3,>=2.5 in /usr/local/lib/python3.7/dist-packages (from requests<3.0.0dev,>=2.18.0->google-api-core<3dev,>=1.21.0->google-api-python-client>=1.6.7->tf-models-official==2.3.0->tflite-model-maker) (2.10)\n",
            "Requirement already satisfied: chardet<4,>=3.0.2 in /usr/local/lib/python3.7/dist-packages (from requests<3.0.0dev,>=2.18.0->google-api-core<3dev,>=1.21.0->google-api-python-client>=1.6.7->tf-models-official==2.3.0->tflite-model-maker) (3.0.4)\n",
            "Requirement already satisfied: threadpoolctl>=2.0.0 in /usr/local/lib/python3.7/dist-packages (from scikit-learn!=0.19.0,>=0.14.0->librosa==0.8.1->tflite-model-maker) (3.1.0)\n",
            "Requirement already satisfied: cffi>=1.0 in /usr/local/lib/python3.7/dist-packages (from soundfile>=0.10.2->librosa==0.8.1->tflite-model-maker) (1.15.0)\n",
            "Requirement already satisfied: pycparser in /usr/local/lib/python3.7/dist-packages (from cffi>=1.0->soundfile>=0.10.2->librosa==0.8.1->tflite-model-maker) (2.21)\n",
            "Requirement already satisfied: libclang>=9.0.1 in /usr/local/lib/python3.7/dist-packages (from tensorflow>=2.6.0->tflite-model-maker) (14.0.1)\n",
            "Requirement already satisfied: h5py>=2.9.0 in /usr/local/lib/python3.7/dist-packages (from tensorflow>=2.6.0->tflite-model-maker) (3.1.0)\n",
            "Requirement already satisfied: keras-preprocessing>=1.1.1 in /usr/local/lib/python3.7/dist-packages (from tensorflow>=2.6.0->tflite-model-maker) (1.1.2)\n",
            "Requirement already satisfied: keras<2.9,>=2.8.0rc0 in /usr/local/lib/python3.7/dist-packages (from tensorflow>=2.6.0->tflite-model-maker) (2.8.0)\n",
            "Requirement already satisfied: gast>=0.2.1 in /usr/local/lib/python3.7/dist-packages (from tensorflow>=2.6.0->tflite-model-maker) (0.5.3)\n",
            "Requirement already satisfied: google-pasta>=0.1.1 in /usr/local/lib/python3.7/dist-packages (from tensorflow>=2.6.0->tflite-model-maker) (0.2.0)\n",
            "Requirement already satisfied: grpcio<2.0,>=1.24.3 in /usr/local/lib/python3.7/dist-packages (from tensorflow>=2.6.0->tflite-model-maker) (1.46.3)\n",
            "Requirement already satisfied: wrapt>=1.11.0 in /usr/local/lib/python3.7/dist-packages (from tensorflow>=2.6.0->tflite-model-maker) (1.14.1)\n",
            "Requirement already satisfied: tensorboard<2.9,>=2.8 in /usr/local/lib/python3.7/dist-packages (from tensorflow>=2.6.0->tflite-model-maker) (2.8.0)\n",
            "Requirement already satisfied: astunparse>=1.6.0 in /usr/local/lib/python3.7/dist-packages (from tensorflow>=2.6.0->tflite-model-maker) (1.6.3)\n",
            "Requirement already satisfied: tensorflow-io-gcs-filesystem>=0.23.1 in /usr/local/lib/python3.7/dist-packages (from tensorflow>=2.6.0->tflite-model-maker) (0.26.0)\n",
            "Requirement already satisfied: tensorflow-estimator<2.9,>=2.8 in /usr/local/lib/python3.7/dist-packages (from tensorflow>=2.6.0->tflite-model-maker) (2.8.0)\n",
            "Requirement already satisfied: opt-einsum>=2.3.2 in /usr/local/lib/python3.7/dist-packages (from tensorflow>=2.6.0->tflite-model-maker) (3.3.0)\n",
            "Requirement already satisfied: wheel<1.0,>=0.23.0 in /usr/local/lib/python3.7/dist-packages (from astunparse>=1.6.0->tensorflow>=2.6.0->tflite-model-maker) (0.37.1)\n",
            "Requirement already satisfied: cached-property in /usr/local/lib/python3.7/dist-packages (from h5py>=2.9.0->tensorflow>=2.6.0->tflite-model-maker) (1.5.2)\n",
            "Requirement already satisfied: tensorboard-plugin-wit>=1.6.0 in /usr/local/lib/python3.7/dist-packages (from tensorboard<2.9,>=2.8->tensorflow>=2.6.0->tflite-model-maker) (1.8.1)\n",
            "Requirement already satisfied: tensorboard-data-server<0.7.0,>=0.6.0 in /usr/local/lib/python3.7/dist-packages (from tensorboard<2.9,>=2.8->tensorflow>=2.6.0->tflite-model-maker) (0.6.1)\n",
            "Requirement already satisfied: werkzeug>=0.11.15 in /usr/local/lib/python3.7/dist-packages (from tensorboard<2.9,>=2.8->tensorflow>=2.6.0->tflite-model-maker) (1.0.1)\n",
            "Requirement already satisfied: markdown>=2.6.8 in /usr/local/lib/python3.7/dist-packages (from tensorboard<2.9,>=2.8->tensorflow>=2.6.0->tflite-model-maker) (3.3.7)\n",
            "Requirement already satisfied: google-auth-oauthlib<0.5,>=0.4.1 in /usr/local/lib/python3.7/dist-packages (from tensorboard<2.9,>=2.8->tensorflow>=2.6.0->tflite-model-maker) (0.4.6)\n",
            "Requirement already satisfied: requests-oauthlib>=0.7.0 in /usr/local/lib/python3.7/dist-packages (from google-auth-oauthlib<0.5,>=0.4.1->tensorboard<2.9,>=2.8->tensorflow>=2.6.0->tflite-model-maker) (1.3.1)\n",
            "Requirement already satisfied: importlib-metadata>=4.4 in /usr/local/lib/python3.7/dist-packages (from markdown>=2.6.8->tensorboard<2.9,>=2.8->tensorflow>=2.6.0->tflite-model-maker) (4.11.4)\n",
            "Requirement already satisfied: zipp>=0.5 in /usr/local/lib/python3.7/dist-packages (from importlib-metadata>=4.4->markdown>=2.6.8->tensorboard<2.9,>=2.8->tensorflow>=2.6.0->tflite-model-maker) (3.8.0)\n",
            "Requirement already satisfied: oauthlib>=3.0.0 in /usr/local/lib/python3.7/dist-packages (from requests-oauthlib>=0.7.0->google-auth-oauthlib<0.5,>=0.4.1->tensorboard<2.9,>=2.8->tensorflow>=2.6.0->tflite-model-maker) (3.2.0)\n",
            "Requirement already satisfied: typeguard>=2.7 in /usr/local/lib/python3.7/dist-packages (from tensorflow-addons>=0.11.2->tflite-model-maker) (2.7.1)\n",
            "Requirement already satisfied: future in /usr/local/lib/python3.7/dist-packages (from tensorflow-datasets>=2.1.0->tflite-model-maker) (0.16.0)\n",
            "Requirement already satisfied: importlib-resources in /usr/local/lib/python3.7/dist-packages (from tensorflow-datasets>=2.1.0->tflite-model-maker) (5.7.1)\n",
            "Requirement already satisfied: dill in /usr/local/lib/python3.7/dist-packages (from tensorflow-datasets>=2.1.0->tflite-model-maker) (0.3.5.1)\n",
            "Requirement already satisfied: dm-tree in /usr/local/lib/python3.7/dist-packages (from tensorflow-datasets>=2.1.0->tflite-model-maker) (0.1.7)\n",
            "Requirement already satisfied: promise in /usr/local/lib/python3.7/dist-packages (from tensorflow-datasets>=2.1.0->tflite-model-maker) (2.3)\n",
            "Requirement already satisfied: tensorflow-metadata in /usr/local/lib/python3.7/dist-packages (from tensorflow-datasets>=2.1.0->tflite-model-maker) (1.8.0)\n",
            "Collecting packaging>=20.0\n",
            "  Downloading packaging-20.9-py2.py3-none-any.whl (40 kB)\n",
            "\u001b[K     |████████████████████████████████| 40 kB 6.3 MB/s \n",
            "\u001b[?25hRequirement already satisfied: text-unidecode>=1.3 in /usr/local/lib/python3.7/dist-packages (from python-slugify->kaggle>=1.3.9->tf-models-official==2.3.0->tflite-model-maker) (1.3)\n",
            "Collecting sounddevice>=0.4.4\n",
            "  Downloading sounddevice-0.4.4-py3-none-any.whl (31 kB)\n",
            "Collecting pybind11>=2.6.0\n",
            "  Downloading pybind11-2.9.2-py2.py3-none-any.whl (213 kB)\n",
            "\u001b[K     |████████████████████████████████| 213 kB 71.2 MB/s \n",
            "\u001b[?25hCollecting tflite-support-nightly\n",
            "  Downloading tflite_support_nightly-0.4.0.dev20220627-cp37-cp37m-manylinux2014_x86_64.whl (42.6 MB)\n",
            "\u001b[K     |████████████████████████████████| 42.6 MB 1.3 MB/s \n",
            "\u001b[?25h  Downloading tflite_support_nightly-0.4.0.dev20220626-cp37-cp37m-manylinux2014_x86_64.whl (42.6 MB)\n",
            "\u001b[K     |████████████████████████████████| 42.6 MB 1.1 MB/s \n",
            "\u001b[?25h  Downloading tflite_support_nightly-0.4.0.dev20220625-cp37-cp37m-manylinux2014_x86_64.whl (42.6 MB)\n",
            "\u001b[K     |████████████████████████████████| 42.6 MB 1.2 MB/s \n",
            "\u001b[?25h  Downloading tflite_support_nightly-0.4.0.dev20220624-cp37-cp37m-manylinux2014_x86_64.whl (42.6 MB)\n",
            "\u001b[K     |████████████████████████████████| 42.6 MB 1.4 MB/s \n",
            "\u001b[?25h  Downloading tflite_support_nightly-0.4.0.dev20220623-cp37-cp37m-manylinux2014_x86_64.whl (42.6 MB)\n",
            "\u001b[K     |████████████████████████████████| 42.6 MB 1.4 MB/s \n",
            "\u001b[?25h  Downloading tflite_support_nightly-0.4.0.dev20220622-cp37-cp37m-manylinux2014_x86_64.whl (42.6 MB)\n",
            "\u001b[K     |████████████████████████████████| 42.6 MB 1.3 MB/s \n",
            "\u001b[?25h  Downloading tflite_support_nightly-0.4.0.dev20220621-cp37-cp37m-manylinux2014_x86_64.whl (42.6 MB)\n",
            "\u001b[K     |████████████████████████████████| 42.6 MB 1.2 MB/s \n",
            "\u001b[?25h  Downloading tflite_support_nightly-0.4.0.dev20220620-cp37-cp37m-manylinux2014_x86_64.whl (42.6 MB)\n",
            "\u001b[K     |████████████████████████████████| 42.6 MB 1.2 MB/s \n",
            "\u001b[?25h  Downloading tflite_support_nightly-0.4.0.dev20220619-cp37-cp37m-manylinux2014_x86_64.whl (42.6 MB)\n",
            "\u001b[K     |████████████████████████████████| 42.6 MB 1.2 MB/s \n",
            "\u001b[?25h  Downloading tflite_support_nightly-0.4.0.dev20220618-cp37-cp37m-manylinux2014_x86_64.whl (42.6 MB)\n",
            "\u001b[K     |████████████████████████████████| 42.6 MB 1.4 MB/s \n",
            "\u001b[?25h  Downloading tflite_support_nightly-0.4.0.dev20220617-cp37-cp37m-manylinux2014_x86_64.whl (42.6 MB)\n",
            "\u001b[K     |████████████████████████████████| 42.6 MB 1.3 MB/s \n",
            "\u001b[?25h  Downloading tflite_support_nightly-0.4.0.dev20220616-cp37-cp37m-manylinux2014_x86_64.whl (42.6 MB)\n",
            "\u001b[K     |████████████████████████████████| 42.6 MB 1.2 MB/s \n",
            "\u001b[?25h  Downloading tflite_support_nightly-0.4.0.dev20220608-cp37-cp37m-manylinux2014_x86_64.whl (42.5 MB)\n",
            "\u001b[K     |████████████████████████████████| 42.5 MB 1.2 MB/s \n",
            "\u001b[?25hCollecting protobuf<4.0.0dev,>=3.12.0\n",
            "  Downloading protobuf-3.19.4-cp37-cp37m-manylinux_2_17_x86_64.manylinux2014_x86_64.whl (1.1 MB)\n",
            "\u001b[K     |████████████████████████████████| 1.1 MB 60.2 MB/s \n",
            "\u001b[?25hBuilding wheels for collected packages: fire, py-cpuinfo\n",
            "  Building wheel for fire (setup.py) ... \u001b[?25l\u001b[?25hdone\n",
            "  Created wheel for fire: filename=fire-0.4.0-py2.py3-none-any.whl size=115942 sha256=0f3c992935a2184e154d371fefb70102bc75924bfa6d86976615db83b83ffaeb\n",
            "  Stored in directory: /root/.cache/pip/wheels/8a/67/fb/2e8a12fa16661b9d5af1f654bd199366799740a85c64981226\n",
            "  Building wheel for py-cpuinfo (setup.py) ... \u001b[?25l\u001b[?25hdone\n",
            "  Created wheel for py-cpuinfo: filename=py_cpuinfo-8.0.0-py3-none-any.whl size=22257 sha256=a8ec8bbe949452da795827c4eacca4e2011deba42bc05dcec440906106cff4d0\n",
            "  Stored in directory: /root/.cache/pip/wheels/d2/f1/1f/041add21dc9c4220157f1bd2bd6afe1f1a49524c3396b94401\n",
            "Successfully built fire py-cpuinfo\n",
            "Installing collected packages: protobuf, packaging, llvmlite, numba, flatbuffers, tf-slim, tensorflow-model-optimization, tensorflow-addons, sounddevice, sentencepiece, PyYAML, pybind11, py-cpuinfo, opencv-python-headless, dataclasses, tflite-support-nightly, tf-models-official, tensorflowjs, scann, neural-structured-learning, lxml, fire, tflite-model-maker\n",
            "  Attempting uninstall: protobuf\n",
            "    Found existing installation: protobuf 3.17.3\n",
            "    Uninstalling protobuf-3.17.3:\n",
            "      Successfully uninstalled protobuf-3.17.3\n",
            "  Attempting uninstall: packaging\n",
            "    Found existing installation: packaging 21.3\n",
            "    Uninstalling packaging-21.3:\n",
            "      Successfully uninstalled packaging-21.3\n",
            "  Attempting uninstall: llvmlite\n",
            "    Found existing installation: llvmlite 0.34.0\n",
            "    Uninstalling llvmlite-0.34.0:\n",
            "      Successfully uninstalled llvmlite-0.34.0\n",
            "  Attempting uninstall: numba\n",
            "    Found existing installation: numba 0.51.2\n",
            "    Uninstalling numba-0.51.2:\n",
            "      Successfully uninstalled numba-0.51.2\n",
            "  Attempting uninstall: flatbuffers\n",
            "    Found existing installation: flatbuffers 2.0\n",
            "    Uninstalling flatbuffers-2.0:\n",
            "      Successfully uninstalled flatbuffers-2.0\n",
            "  Attempting uninstall: PyYAML\n",
            "    Found existing installation: PyYAML 3.13\n",
            "    Uninstalling PyYAML-3.13:\n",
            "      Successfully uninstalled PyYAML-3.13\n",
            "  Attempting uninstall: lxml\n",
            "    Found existing installation: lxml 4.2.6\n",
            "    Uninstalling lxml-4.2.6:\n",
            "      Successfully uninstalled lxml-4.2.6\n",
            "\u001b[31mERROR: pip's dependency resolver does not currently take into account all the packages that are installed. This behaviour is the source of the following dependency conflicts.\n",
            "datascience 0.10.6 requires folium==0.2.1, but you have folium 0.8.3 which is incompatible.\u001b[0m\n",
            "Successfully installed PyYAML-6.0 dataclasses-0.6 fire-0.4.0 flatbuffers-1.12 llvmlite-0.36.0 lxml-4.9.0 neural-structured-learning-1.3.1 numba-0.53.0 opencv-python-headless-4.6.0.66 packaging-20.9 protobuf-3.19.4 py-cpuinfo-8.0.0 pybind11-2.9.2 scann-1.2.6 sentencepiece-0.1.96 sounddevice-0.4.4 tensorflow-addons-0.17.1 tensorflow-model-optimization-0.7.2 tensorflowjs-3.18.0 tf-models-official-2.3.0 tf-slim-1.1.0 tflite-model-maker-0.4.1 tflite-support-nightly-0.4.0.dev20220608\n"
          ]
        },
        {
          "output_type": "display_data",
          "data": {
            "application/vnd.colab-display-data+json": {
              "pip_warning": {
                "packages": [
                  "google"
                ]
              }
            }
          },
          "metadata": {}
        }
      ],
      "source": [
        "!pip install tflite-model-maker"
      ]
    },
    {
      "cell_type": "markdown",
      "metadata": {
        "id": "Gx1HGRoFQ54j"
      },
      "source": [
        "Import the required packages."
      ]
    },
    {
      "cell_type": "code",
      "execution_count": 2,
      "metadata": {
        "id": "XtxiUeZEiXpt"
      },
      "outputs": [],
      "source": [
        "import numpy as np\n",
        "\n",
        "import tensorflow as tf\n",
        "assert tf.__version__.startswith('2')\n",
        "\n",
        "from tflite_model_maker import model_spec\n",
        "from tflite_model_maker import image_classifier\n",
        "from tflite_model_maker.image_classifier import DataLoader"
      ]
    },
    {
      "cell_type": "markdown",
      "metadata": {
        "id": "KKRaYHABpob5"
      },
      "source": [
        "## Simple End-to-End Example"
      ]
    },
    {
      "cell_type": "markdown",
      "metadata": {
        "id": "SiZZ5DHXotaW"
      },
      "source": [
        "### Get the data path\n",
        "\n",
        "Let's get some images to play with this simple end-to-end example. Hundreds of images is a good start for Model Maker while more data could achieve better accuracy."
      ]
    },
    {
      "cell_type": "markdown",
      "source": [
        "Crear la carpeta helmet"
      ],
      "metadata": {
        "id": "QacrOB1YiNLj"
      }
    },
    {
      "cell_type": "code",
      "source": [
        "#cargar el zip en los archivos\n",
        "!ls helmet"
      ],
      "metadata": {
        "id": "lygfcU51hzkS",
        "outputId": "e570bee2-cfff-4cbb-f516-54b523ebe821",
        "colab": {
          "base_uri": "https://localhost:8080/"
        }
      },
      "execution_count": 3,
      "outputs": [
        {
          "output_type": "stream",
          "name": "stdout",
          "text": [
            "helmet_photos.zip\n"
          ]
        }
      ]
    },
    {
      "cell_type": "code",
      "source": [
        "!unzip helmet/helmet_photos.zip"
      ],
      "metadata": {
        "id": "rTunUVP9h5Oz",
        "outputId": "3c19dc81-df49-4e41-b013-6d1371782ce2",
        "colab": {
          "base_uri": "https://localhost:8080/"
        }
      },
      "execution_count": 7,
      "outputs": [
        {
          "output_type": "stream",
          "name": "stdout",
          "text": [
            "Archive:  helmet/helmet_photos.zip\n",
            "   creating: helmet_photos/\n",
            "   creating: helmet_photos/without_helmet/\n",
            "  inflating: helmet_photos/without_helmet/BikesHelmets10.png  \n",
            "  inflating: helmet_photos/without_helmet/BikesHelmets103.png  \n",
            "  inflating: helmet_photos/without_helmet/BikesHelmets110.png  \n",
            "  inflating: helmet_photos/without_helmet/BikesHelmets111.png  \n",
            "  inflating: helmet_photos/without_helmet/BikesHelmets112.png  \n",
            "  inflating: helmet_photos/without_helmet/BikesHelmets119.png  \n",
            "  inflating: helmet_photos/without_helmet/BikesHelmets128.png  \n",
            "  inflating: helmet_photos/without_helmet/BikesHelmets130.png  \n",
            "  inflating: helmet_photos/without_helmet/BikesHelmets133.png  \n",
            "  inflating: helmet_photos/without_helmet/BikesHelmets156.png  \n",
            "  inflating: helmet_photos/without_helmet/BikesHelmets168.png  \n",
            "  inflating: helmet_photos/without_helmet/BikesHelmets170.png  \n",
            "  inflating: helmet_photos/without_helmet/BikesHelmets175.png  \n",
            "  inflating: helmet_photos/without_helmet/BikesHelmets176.png  \n",
            "  inflating: helmet_photos/without_helmet/BikesHelmets31.png  \n",
            "  inflating: helmet_photos/without_helmet/BikesHelmets379.png  \n",
            "  inflating: helmet_photos/without_helmet/BikesHelmets384.png  \n",
            "  inflating: helmet_photos/without_helmet/BikesHelmets404.png  \n",
            "  inflating: helmet_photos/without_helmet/BikesHelmets406 (1).png  \n",
            "  inflating: helmet_photos/without_helmet/BikesHelmets406.png  \n",
            "  inflating: helmet_photos/without_helmet/BikesHelmets408.png  \n",
            "  inflating: helmet_photos/without_helmet/BikesHelmets412.png  \n",
            "  inflating: helmet_photos/without_helmet/BikesHelmets417.png  \n",
            "  inflating: helmet_photos/without_helmet/BikesHelmets420.png  \n",
            "  inflating: helmet_photos/without_helmet/BikesHelmets422.png  \n",
            "  inflating: helmet_photos/without_helmet/BikesHelmets423.png  \n",
            "  inflating: helmet_photos/without_helmet/BikesHelmets424.png  \n",
            "  inflating: helmet_photos/without_helmet/BikesHelmets429.png  \n",
            "  inflating: helmet_photos/without_helmet/BikesHelmets430.png  \n",
            "  inflating: helmet_photos/without_helmet/BikesHelmets431.png  \n",
            "  inflating: helmet_photos/without_helmet/BikesHelmets436.png  \n",
            "  inflating: helmet_photos/without_helmet/BikesHelmets438.png  \n",
            "  inflating: helmet_photos/without_helmet/BikesHelmets440.png  \n",
            "  inflating: helmet_photos/without_helmet/BikesHelmets441.png  \n",
            "  inflating: helmet_photos/without_helmet/BikesHelmets444.png  \n",
            "  inflating: helmet_photos/without_helmet/BikesHelmets447.png  \n",
            "  inflating: helmet_photos/without_helmet/BikesHelmets448.png  \n",
            "  inflating: helmet_photos/without_helmet/BikesHelmets45.png  \n",
            "  inflating: helmet_photos/without_helmet/BikesHelmets452.png  \n",
            "  inflating: helmet_photos/without_helmet/BikesHelmets466.png  \n",
            "  inflating: helmet_photos/without_helmet/BikesHelmets47.png  \n",
            "  inflating: helmet_photos/without_helmet/BikesHelmets471.png  \n",
            "  inflating: helmet_photos/without_helmet/BikesHelmets479.png  \n",
            "  inflating: helmet_photos/without_helmet/BikesHelmets485.png  \n",
            "  inflating: helmet_photos/without_helmet/BikesHelmets494.png  \n",
            "  inflating: helmet_photos/without_helmet/BikesHelmets5.png  \n",
            "  inflating: helmet_photos/without_helmet/BikesHelmets505.png  \n",
            "  inflating: helmet_photos/without_helmet/BikesHelmets513.png  \n",
            "  inflating: helmet_photos/without_helmet/BikesHelmets52.png  \n",
            "  inflating: helmet_photos/without_helmet/BikesHelmets526.png  \n",
            "  inflating: helmet_photos/without_helmet/BikesHelmets55.png  \n",
            "  inflating: helmet_photos/without_helmet/BikesHelmets556.png  \n",
            "  inflating: helmet_photos/without_helmet/BikesHelmets57.png  \n",
            "  inflating: helmet_photos/without_helmet/BikesHelmets577.png  \n",
            "  inflating: helmet_photos/without_helmet/BikesHelmets578.png  \n",
            "  inflating: helmet_photos/without_helmet/BikesHelmets583.png  \n",
            "  inflating: helmet_photos/without_helmet/BikesHelmets62.png  \n",
            "  inflating: helmet_photos/without_helmet/BikesHelmets630.png  \n",
            "  inflating: helmet_photos/without_helmet/BikesHelmets638.png  \n",
            "  inflating: helmet_photos/without_helmet/BikesHelmets66.png  \n",
            "  inflating: helmet_photos/without_helmet/BikesHelmets664.png  \n",
            "  inflating: helmet_photos/without_helmet/BikesHelmets67.png  \n",
            "  inflating: helmet_photos/without_helmet/BikesHelmets670.png  \n",
            "  inflating: helmet_photos/without_helmet/BikesHelmets684.png  \n",
            "  inflating: helmet_photos/without_helmet/BikesHelmets730.png  \n",
            "  inflating: helmet_photos/without_helmet/BikesHelmets734.png  \n",
            "  inflating: helmet_photos/without_helmet/BikesHelmets736.png  \n",
            "  inflating: helmet_photos/without_helmet/BikesHelmets739.png  \n",
            "  inflating: helmet_photos/without_helmet/BikesHelmets74.png  \n",
            "  inflating: helmet_photos/without_helmet/BikesHelmets743.png  \n",
            "  inflating: helmet_photos/without_helmet/BikesHelmets77.png  \n",
            "  inflating: helmet_photos/without_helmet/BikesHelmets78.png  \n",
            "  inflating: helmet_photos/without_helmet/BikesHelmets9.png  \n",
            "  inflating: helmet_photos/without_helmet/BikesHelmets93.png  \n",
            "  inflating: helmet_photos/without_helmet/BikesHelmets98.png  \n",
            "   creating: helmet_photos/with_helmet/\n",
            "  inflating: helmet_photos/with_helmet/BikesHelmets0.png  \n",
            "  inflating: helmet_photos/with_helmet/BikesHelmets1.png  \n",
            "  inflating: helmet_photos/with_helmet/BikesHelmets107.png  \n",
            "  inflating: helmet_photos/with_helmet/BikesHelmets108.png  \n",
            "  inflating: helmet_photos/with_helmet/BikesHelmets109.png  \n",
            "  inflating: helmet_photos/with_helmet/BikesHelmets114.png  \n",
            "  inflating: helmet_photos/with_helmet/BikesHelmets118.png  \n",
            "  inflating: helmet_photos/with_helmet/BikesHelmets120.png  \n",
            "  inflating: helmet_photos/with_helmet/BikesHelmets121.png  \n",
            "  inflating: helmet_photos/with_helmet/BikesHelmets122.png  \n",
            "  inflating: helmet_photos/with_helmet/BikesHelmets127.png  \n",
            "  inflating: helmet_photos/with_helmet/BikesHelmets129.png  \n",
            "  inflating: helmet_photos/with_helmet/BikesHelmets135.png  \n",
            "  inflating: helmet_photos/with_helmet/BikesHelmets136.png  \n",
            "  inflating: helmet_photos/with_helmet/BikesHelmets139.png  \n",
            "  inflating: helmet_photos/with_helmet/BikesHelmets147.png  \n",
            "  inflating: helmet_photos/with_helmet/BikesHelmets153.png  \n",
            "  inflating: helmet_photos/with_helmet/BikesHelmets155.png  \n",
            "  inflating: helmet_photos/with_helmet/BikesHelmets166.png  \n",
            "  inflating: helmet_photos/with_helmet/BikesHelmets177.png  \n",
            "  inflating: helmet_photos/with_helmet/BikesHelmets182.png  \n",
            "  inflating: helmet_photos/with_helmet/BikesHelmets183.png  \n",
            "  inflating: helmet_photos/with_helmet/BikesHelmets186.png  \n",
            "  inflating: helmet_photos/with_helmet/BikesHelmets187.png  \n",
            "  inflating: helmet_photos/with_helmet/BikesHelmets205.png  \n",
            "  inflating: helmet_photos/with_helmet/BikesHelmets206 (1).png  \n",
            "  inflating: helmet_photos/with_helmet/BikesHelmets206.png  \n",
            "  inflating: helmet_photos/with_helmet/BikesHelmets210.png  \n",
            "  inflating: helmet_photos/with_helmet/BikesHelmets211.png  \n",
            "  inflating: helmet_photos/with_helmet/BikesHelmets224.png  \n",
            "  inflating: helmet_photos/with_helmet/BikesHelmets225.png  \n",
            "  inflating: helmet_photos/with_helmet/BikesHelmets226.png  \n",
            "  inflating: helmet_photos/with_helmet/BikesHelmets227.png  \n",
            "  inflating: helmet_photos/with_helmet/BikesHelmets229.png  \n",
            "  inflating: helmet_photos/with_helmet/BikesHelmets233.png  \n",
            "  inflating: helmet_photos/with_helmet/BikesHelmets234.png  \n",
            "  inflating: helmet_photos/with_helmet/BikesHelmets240.png  \n",
            "  inflating: helmet_photos/with_helmet/BikesHelmets242.png  \n",
            "  inflating: helmet_photos/with_helmet/BikesHelmets243.png  \n",
            "  inflating: helmet_photos/with_helmet/BikesHelmets245.png  \n",
            "  inflating: helmet_photos/with_helmet/BikesHelmets246.png  \n",
            "  inflating: helmet_photos/with_helmet/BikesHelmets249.png  \n",
            "  inflating: helmet_photos/with_helmet/BikesHelmets261.png  \n",
            "  inflating: helmet_photos/with_helmet/BikesHelmets263.png  \n",
            "  inflating: helmet_photos/with_helmet/BikesHelmets264.png  \n",
            "  inflating: helmet_photos/with_helmet/BikesHelmets265 (1).png  \n",
            "  inflating: helmet_photos/with_helmet/BikesHelmets265.png  \n",
            "  inflating: helmet_photos/with_helmet/BikesHelmets268.png  \n",
            "  inflating: helmet_photos/with_helmet/BikesHelmets269.png  \n",
            "  inflating: helmet_photos/with_helmet/BikesHelmets270 (1).png  \n",
            "  inflating: helmet_photos/with_helmet/BikesHelmets270.png  \n",
            "  inflating: helmet_photos/with_helmet/BikesHelmets278.png  \n",
            "  inflating: helmet_photos/with_helmet/BikesHelmets279.png  \n",
            "  inflating: helmet_photos/with_helmet/BikesHelmets282.png  \n",
            "  inflating: helmet_photos/with_helmet/BikesHelmets288.png  \n",
            "  inflating: helmet_photos/with_helmet/BikesHelmets290.png  \n",
            "  inflating: helmet_photos/with_helmet/BikesHelmets292.png  \n",
            "  inflating: helmet_photos/with_helmet/BikesHelmets294.png  \n",
            "  inflating: helmet_photos/with_helmet/BikesHelmets301.png  \n",
            "  inflating: helmet_photos/with_helmet/BikesHelmets307 (1).png  \n",
            "  inflating: helmet_photos/with_helmet/BikesHelmets307.png  \n",
            "  inflating: helmet_photos/with_helmet/BikesHelmets309 (1).png  \n",
            "  inflating: helmet_photos/with_helmet/BikesHelmets309.png  \n",
            "  inflating: helmet_photos/with_helmet/BikesHelmets310.png  \n",
            "  inflating: helmet_photos/with_helmet/BikesHelmets312.png  \n",
            "  inflating: helmet_photos/with_helmet/BikesHelmets316.png  \n",
            "  inflating: helmet_photos/with_helmet/BikesHelmets326.png  \n",
            "  inflating: helmet_photos/with_helmet/BikesHelmets330.png  \n",
            "  inflating: helmet_photos/with_helmet/BikesHelmets337.png  \n",
            "  inflating: helmet_photos/with_helmet/BikesHelmets343.png  \n",
            "  inflating: helmet_photos/with_helmet/BikesHelmets345.png  \n",
            "  inflating: helmet_photos/with_helmet/BikesHelmets346.png  \n",
            "  inflating: helmet_photos/with_helmet/BikesHelmets348.png  \n",
            "  inflating: helmet_photos/with_helmet/BikesHelmets350.png  \n",
            "  inflating: helmet_photos/with_helmet/BikesHelmets352.png  \n",
            "  inflating: helmet_photos/with_helmet/BikesHelmets355.png  \n",
            "  inflating: helmet_photos/with_helmet/BikesHelmets361.png  \n",
            "  inflating: helmet_photos/with_helmet/BikesHelmets363.png  \n",
            "  inflating: helmet_photos/with_helmet/BikesHelmets373.png  \n",
            "  inflating: helmet_photos/with_helmet/BikesHelmets374 (1).png  \n",
            "  inflating: helmet_photos/with_helmet/BikesHelmets374.png  \n",
            "  inflating: helmet_photos/with_helmet/BikesHelmets380.png  \n",
            "  inflating: helmet_photos/with_helmet/BikesHelmets388 (1).png  \n",
            "  inflating: helmet_photos/with_helmet/BikesHelmets388.png  \n",
            "  inflating: helmet_photos/with_helmet/BikesHelmets390.png  \n",
            "  inflating: helmet_photos/with_helmet/BikesHelmets396 (1).png  \n",
            "  inflating: helmet_photos/with_helmet/BikesHelmets396.png  \n",
            "  inflating: helmet_photos/with_helmet/BikesHelmets400 (1).png  \n",
            "  inflating: helmet_photos/with_helmet/BikesHelmets400.png  \n",
            "  inflating: helmet_photos/with_helmet/BikesHelmets401.png  \n",
            "  inflating: helmet_photos/with_helmet/BikesHelmets407.png  \n",
            "  inflating: helmet_photos/with_helmet/BikesHelmets409.png  \n",
            "  inflating: helmet_photos/with_helmet/BikesHelmets410.png  \n",
            "  inflating: helmet_photos/with_helmet/BikesHelmets521.png  \n",
            "  inflating: helmet_photos/with_helmet/BikesHelmets536.png  \n",
            "  inflating: helmet_photos/with_helmet/BikesHelmets542.png  \n",
            "  inflating: helmet_photos/with_helmet/BikesHelmets543.png  \n",
            "  inflating: helmet_photos/with_helmet/BikesHelmets545.png  \n",
            "  inflating: helmet_photos/with_helmet/BikesHelmets551.png  \n",
            "  inflating: helmet_photos/with_helmet/BikesHelmets552.png  \n",
            "  inflating: helmet_photos/with_helmet/BikesHelmets680.png  \n",
            "  inflating: helmet_photos/with_helmet/BikesHelmets699.png  \n",
            "  inflating: helmet_photos/with_helmet/BikesHelmets704.png  \n",
            "  inflating: helmet_photos/with_helmet/BikesHelmets711.png  \n",
            "  inflating: helmet_photos/with_helmet/BikesHelmets712.png  \n",
            "  inflating: helmet_photos/with_helmet/BikesHelmets715.png  \n",
            "  inflating: helmet_photos/with_helmet/BikesHelmets720.png  \n",
            "  inflating: helmet_photos/with_helmet/BikesHelmets721.png  \n",
            "  inflating: helmet_photos/with_helmet/BikesHelmets722.png  \n"
          ]
        }
      ]
    },
    {
      "cell_type": "code",
      "execution_count": null,
      "metadata": {
        "cellView": "form",
        "id": "3jz5x0JoskPv"
      },
      "outputs": [],
      "source": [
        "#no la ocupo\n",
        "image_path = tf.keras.utils.get_file(\n",
        "      'flower_photos',\n",
        "      'https://storage.googleapis.com/download.tensorflow.org/example_images/flower_photos.tgz',\n",
        "      untar=True)"
      ]
    },
    {
      "cell_type": "markdown",
      "metadata": {
        "id": "a55MR6i6nuDm"
      },
      "source": [
        "You could replace `image_path` with your own image folders. As for uploading data to colab, you could find the upload button in the left sidebar shown in the image below with the red rectangle. Just have a try to upload a zip file and unzip it. The root file path is the current path.\n",
        "\n",
        "<img src=\"https://storage.googleapis.com/download.tensorflow.org/models/tflite/screenshots/model_maker_image_classification.png\" alt=\"Upload File\" width=\"800\" hspace=\"100\">"
      ]
    },
    {
      "cell_type": "markdown",
      "metadata": {
        "id": "NNRNv_mloS89"
      },
      "source": [
        "If you prefer not to upload your images to the cloud, you could try to run the library locally following the [guide](https://github.com/tensorflow/examples/tree/master/tensorflow_examples/lite/model_maker) in github."
      ]
    },
    {
      "cell_type": "markdown",
      "metadata": {
        "id": "w-VDriAdsowu"
      },
      "source": [
        "### Run the example\n",
        "The example just consists of 4 lines of code as shown below, each of which representing one step of the overall process.\n"
      ]
    },
    {
      "cell_type": "markdown",
      "metadata": {
        "id": "6ahtcO86tZBL"
      },
      "source": [
        "1.   Load input data specific to an on-device ML app. Split it to training data and testing data."
      ]
    },
    {
      "cell_type": "code",
      "execution_count": 9,
      "metadata": {
        "id": "lANoNS_gtdH1",
        "outputId": "0036dbb2-d4e3-4f6b-8d41-ab1ed3408c00",
        "colab": {
          "base_uri": "https://localhost:8080/"
        }
      },
      "outputs": [
        {
          "output_type": "stream",
          "name": "stdout",
          "text": [
            "INFO:tensorflow:Load image with size: 184, num_label: 2, labels: with_helmet, without_helmet.\n"
          ]
        }
      ],
      "source": [
        "data = DataLoader.from_folder('helmet_photos')\n",
        "train_data, test_data = data.split(0.9)"
      ]
    },
    {
      "cell_type": "markdown",
      "metadata": {
        "id": "Y_9IWyIztuRF"
      },
      "source": [
        "2. Customize the TensorFlow model."
      ]
    },
    {
      "cell_type": "code",
      "execution_count": 10,
      "metadata": {
        "id": "yRXMZbrwtyRD",
        "outputId": "2ec51e2a-0e00-4569-882d-bac164be52c6",
        "colab": {
          "base_uri": "https://localhost:8080/"
        }
      },
      "outputs": [
        {
          "output_type": "stream",
          "name": "stdout",
          "text": [
            "INFO:tensorflow:Retraining the models...\n",
            "Model: \"sequential\"\n",
            "_________________________________________________________________\n",
            " Layer (type)                Output Shape              Param #   \n",
            "=================================================================\n",
            " hub_keras_layer_v1v2 (HubKe  (None, 1280)             3413024   \n",
            " rasLayerV1V2)                                                   \n",
            "                                                                 \n",
            " dropout (Dropout)           (None, 1280)              0         \n",
            "                                                                 \n",
            " dense (Dense)               (None, 2)                 2562      \n",
            "                                                                 \n",
            "=================================================================\n",
            "Total params: 3,415,586\n",
            "Trainable params: 2,562\n",
            "Non-trainable params: 3,413,024\n",
            "_________________________________________________________________\n",
            "None\n",
            "Epoch 1/5\n",
            "5/5 [==============================] - 14s 112ms/step - loss: 0.6501 - accuracy: 0.6500\n",
            "Epoch 2/5\n",
            "5/5 [==============================] - 2s 383ms/step - loss: 0.5893 - accuracy: 0.7500\n",
            "Epoch 3/5\n",
            "5/5 [==============================] - 2s 384ms/step - loss: 0.5168 - accuracy: 0.7750\n",
            "Epoch 4/5\n",
            "5/5 [==============================] - 2s 388ms/step - loss: 0.4631 - accuracy: 0.8000\n",
            "Epoch 5/5\n",
            "5/5 [==============================] - 2s 387ms/step - loss: 0.4418 - accuracy: 0.8500\n"
          ]
        }
      ],
      "source": [
        "model = image_classifier.create(train_data)"
      ]
    },
    {
      "cell_type": "markdown",
      "metadata": {
        "id": "oxU2fDr-t2Ya"
      },
      "source": [
        "3. Evaluate the model."
      ]
    },
    {
      "cell_type": "code",
      "execution_count": 11,
      "metadata": {
        "id": "wQr02VxJt6Cs",
        "outputId": "901f2550-c867-4d7f-c0aa-11f8790de665",
        "colab": {
          "base_uri": "https://localhost:8080/"
        }
      },
      "outputs": [
        {
          "output_type": "stream",
          "name": "stdout",
          "text": [
            "1/1 [==============================] - 3s 3s/step - loss: 0.5842 - accuracy: 0.7368\n"
          ]
        }
      ],
      "source": [
        "loss, accuracy = model.evaluate(test_data)"
      ]
    },
    {
      "cell_type": "markdown",
      "metadata": {
        "id": "eVZw9zU8t84y"
      },
      "source": [
        "4.  Export to TensorFlow Lite model.\n",
        "You could download it in the left sidebar same as the uploading part for your own use."
      ]
    },
    {
      "cell_type": "code",
      "execution_count": 12,
      "metadata": {
        "id": "Zb-eIzfluCoa",
        "outputId": "e81a61c0-05cf-4071-b932-249d7b68cff2",
        "colab": {
          "base_uri": "https://localhost:8080/"
        }
      },
      "outputs": [
        {
          "output_type": "stream",
          "name": "stdout",
          "text": [
            "INFO:tensorflow:Assets written to: /tmp/tmp_gltwhpk/assets\n"
          ]
        },
        {
          "output_type": "stream",
          "name": "stderr",
          "text": [
            "INFO:tensorflow:Assets written to: /tmp/tmp_gltwhpk/assets\n",
            "/usr/local/lib/python3.7/dist-packages/tensorflow/lite/python/convert.py:746: UserWarning: Statistics for quantized inputs were expected, but not specified; continuing anyway.\n",
            "  warnings.warn(\"Statistics for quantized inputs were expected, but not \"\n"
          ]
        },
        {
          "output_type": "stream",
          "name": "stdout",
          "text": [
            "INFO:tensorflow:TensorFlow Lite model exported successfully: ./model.tflite\n"
          ]
        },
        {
          "output_type": "stream",
          "name": "stderr",
          "text": [
            "INFO:tensorflow:TensorFlow Lite model exported successfully: ./model.tflite\n"
          ]
        },
        {
          "output_type": "stream",
          "name": "stdout",
          "text": [
            "INFO:tensorflow:Saving labels in ./labels.txt\n"
          ]
        },
        {
          "output_type": "stream",
          "name": "stderr",
          "text": [
            "INFO:tensorflow:Saving labels in ./labels.txt\n"
          ]
        }
      ],
      "source": [
        "model.export(export_dir='.', with_metadata=False)"
      ]
    },
    {
      "cell_type": "markdown",
      "metadata": {
        "id": "pyju1qc_v-wy"
      },
      "source": [
        "After this simple 4 steps, we can now download the model and label files, and continue to the next step in the [codelab](https://codelabs.developers.google.com/codelabs/recognize-flowers-with-tensorflow-on-android/#4).\n",
        "\n",
        "For a more comprehensive guide to TFLite Model Maker, please refer to this [notebook](https://colab.sandbox.google.com/github/tensorflow/examples/blob/master/tensorflow_examples/lite/model_maker/demo/image_classification.ipynb) and its [documentation](https://github.com/tensorflow/examples/tree/master/tensorflow_examples/lite/model_maker).\n"
      ]
    }
  ],
  "metadata": {
    "accelerator": "GPU",
    "colab": {
      "collapsed_sections": [],
      "name": "Flower_Classification_with_TFLite_Model_Maker.ipynb",
      "provenance": []
    },
    "kernelspec": {
      "display_name": "Python 3",
      "name": "python3"
    }
  },
  "nbformat": 4,
  "nbformat_minor": 0
}