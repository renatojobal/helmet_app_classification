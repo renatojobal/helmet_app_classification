{
  "nbformat": 4,
  "nbformat_minor": 0,
  "metadata": {
    "accelerator": "GPU",
    "colab": {
      "name": "Helmet detection model.ipynb",
      "provenance": [],
      "collapsed_sections": [],
      "include_colab_link": true
    },
    "kernelspec": {
      "display_name": "Python 3",
      "language": "python",
      "name": "python3"
    },
    "language_info": {
      "codemirror_mode": {
        "name": "ipython",
        "version": 3
      },
      "file_extension": ".py",
      "mimetype": "text/x-python",
      "name": "python",
      "nbconvert_exporter": "python",
      "pygments_lexer": "ipython3",
      "version": "3.7.4"
    }
  },
  "cells": [
    {
      "cell_type": "markdown",
      "metadata": {
        "id": "view-in-github",
        "colab_type": "text"
      },
      "source": [
        "<a href=\"https://colab.research.google.com/github/renatojobal/helmet_app_classification/blob/main/Helmet_detection_model.ipynb\" target=\"_parent\"><img src=\"https://colab.research.google.com/assets/colab-badge.svg\" alt=\"Open In Colab\"/></a>"
      ]
    },
    {
      "cell_type": "markdown",
      "metadata": {
        "id": "Gb7qyhNL1yWt"
      },
      "source": [
        "# Helmet classification with TensorFlow Lite Model Maker with TensorFlow 2.0\n",
        "\n",
        "Authors:\n",
        "- Gerson Moises Santos Salazar\n",
        "- Renato Johao Balcázar Loaiza\n"
      ]
    },
    {
      "cell_type": "markdown",
      "metadata": {
        "id": "nDABAblytltI"
      },
      "source": [
        "<table class=\"tfo-notebook-buttons\" align=\"left\">\n",
        "  <td>\n",
        "    <a target=\"_blank\" href=\"https://github.com/renatojobal/helmet_app_classification\">\n",
        "    <img src=\"https://www.tensorflow.org/images/GitHub-Mark-32px.png\" />\n",
        "    View source on GitHub</a>\n",
        "  </td>\n",
        "</table>"
      ]
    },
    {
      "cell_type": "markdown",
      "metadata": {
        "id": "m86-Nh4pMHqY"
      },
      "source": [
        "Model Maker library simplifies the process of adapting and converting a TensorFlow neural-network model to particular input data when deploying this model for on-device ML applications.\n",
        "\n",
        "This notebook shows an end-to-end example that utilizes this Model Maker library to illustrate the adaption and conversion of a commonly-used image classification model to classify flowers on a mobile device."
      ]
    },
    {
      "cell_type": "markdown",
      "metadata": {
        "id": "bcLF2PKkSbV3"
      },
      "source": [
        "## Prerequisites\n",
        "\n",
        "To run this example, we first need to make a copy of this notebook. Click on \"Copy to Drive\" at the top of this notebook. Then we need to install serveral required packages, including Model Maker package that in github [repo](https://github.com/tensorflow/examples/tree/master/tensorflow_examples/lite/model_maker)."
      ]
    },
    {
      "cell_type": "code",
      "metadata": {
        "id": "6cv3K3oaksJv",
        "colab": {
          "base_uri": "https://localhost:8080/"
        },
        "outputId": "ca7c571b-5664-4435-c10c-5758a2a7d9e2"
      },
      "source": [
        "!pip install -q tflite-model-maker"
      ],
      "execution_count": 1,
      "outputs": [
        {
          "output_type": "stream",
          "name": "stdout",
          "text": [
            "\u001b[K     |████████████████████████████████| 642 kB 29.5 MB/s \n",
            "\u001b[K     |████████████████████████████████| 87 kB 8.7 MB/s \n",
            "\u001b[K     |████████████████████████████████| 3.4 MB 59.8 MB/s \n",
            "\u001b[K     |████████████████████████████████| 77 kB 7.9 MB/s \n",
            "\u001b[K     |████████████████████████████████| 1.1 MB 50.2 MB/s \n",
            "\u001b[K     |████████████████████████████████| 55.1 MB 74 kB/s \n",
            "\u001b[K     |████████████████████████████████| 10.9 MB 32.1 MB/s \n",
            "\u001b[K     |████████████████████████████████| 596 kB 73.9 MB/s \n",
            "\u001b[K     |████████████████████████████████| 120 kB 71.4 MB/s \n",
            "\u001b[K     |████████████████████████████████| 237 kB 72.6 MB/s \n",
            "\u001b[K     |████████████████████████████████| 6.4 MB 51.5 MB/s \n",
            "\u001b[K     |████████████████████████████████| 1.2 MB 57.5 MB/s \n",
            "\u001b[K     |████████████████████████████████| 840 kB 45.7 MB/s \n",
            "\u001b[K     |████████████████████████████████| 25.3 MB 1.4 MB/s \n",
            "\u001b[K     |████████████████████████████████| 48.3 MB 94 kB/s \n",
            "\u001b[K     |████████████████████████████████| 352 kB 68.4 MB/s \n",
            "\u001b[K     |████████████████████████████████| 99 kB 11.0 MB/s \n",
            "\u001b[K     |████████████████████████████████| 40 kB 6.1 MB/s \n",
            "\u001b[K     |████████████████████████████████| 55.1 MB 94 kB/s \n",
            "\u001b[K     |████████████████████████████████| 55.1 MB 75 kB/s \n",
            "\u001b[K     |████████████████████████████████| 55.1 MB 63 kB/s \n",
            "\u001b[K     |████████████████████████████████| 55.1 MB 1.1 MB/s \n",
            "\u001b[K     |████████████████████████████████| 55.1 MB 107 kB/s \n",
            "\u001b[K     |████████████████████████████████| 55.1 MB 49 kB/s \n",
            "\u001b[K     |████████████████████████████████| 55.1 MB 69 kB/s \n",
            "\u001b[K     |████████████████████████████████| 55.1 MB 145 kB/s \n",
            "\u001b[K     |████████████████████████████████| 55.1 MB 52 kB/s \n",
            "\u001b[K     |████████████████████████████████| 42.6 MB 1.4 MB/s \n",
            "\u001b[K     |████████████████████████████████| 42.6 MB 1.2 MB/s \n",
            "\u001b[K     |████████████████████████████████| 42.6 MB 1.2 MB/s \n",
            "\u001b[K     |████████████████████████████████| 42.6 MB 1.2 MB/s \n",
            "\u001b[K     |████████████████████████████████| 42.6 MB 1.4 MB/s \n",
            "\u001b[K     |████████████████████████████████| 42.6 MB 1.3 MB/s \n",
            "\u001b[K     |████████████████████████████████| 42.6 MB 1.4 MB/s \n",
            "\u001b[K     |████████████████████████████████| 42.6 MB 1.5 MB/s \n",
            "\u001b[K     |████████████████████████████████| 42.6 MB 1.4 MB/s \n",
            "\u001b[K     |████████████████████████████████| 42.6 MB 1.2 MB/s \n",
            "\u001b[K     |████████████████████████████████| 42.6 MB 1.5 MB/s \n",
            "\u001b[K     |████████████████████████████████| 42.6 MB 1.7 MB/s \n",
            "\u001b[K     |████████████████████████████████| 42.6 MB 1.3 MB/s \n",
            "\u001b[K     |████████████████████████████████| 42.6 MB 1.4 MB/s \n",
            "\u001b[K     |████████████████████████████████| 42.6 MB 1.2 MB/s \n",
            "\u001b[K     |████████████████████████████████| 42.5 MB 1.1 MB/s \n",
            "\u001b[K     |████████████████████████████████| 1.1 MB 65.5 MB/s \n",
            "\u001b[K     |████████████████████████████████| 213 kB 71.2 MB/s \n",
            "\u001b[?25h  Building wheel for fire (setup.py) ... \u001b[?25l\u001b[?25hdone\n",
            "  Building wheel for py-cpuinfo (setup.py) ... \u001b[?25l\u001b[?25hdone\n",
            "\u001b[31mERROR: pip's dependency resolver does not currently take into account all the packages that are installed. This behaviour is the source of the following dependency conflicts.\n",
            "datascience 0.10.6 requires folium==0.2.1, but you have folium 0.8.3 which is incompatible.\u001b[0m\n"
          ]
        }
      ]
    },
    {
      "cell_type": "markdown",
      "metadata": {
        "id": "Gx1HGRoFQ54j"
      },
      "source": [
        "Import the required packages."
      ]
    },
    {
      "cell_type": "code",
      "metadata": {
        "id": "XtxiUeZEiXpt",
        "colab": {
          "base_uri": "https://localhost:8080/"
        },
        "outputId": "2cd405e5-fbb0-4b06-ffa1-d7956c46ae5e"
      },
      "source": [
        "from tflite_model_maker import image_classifier\n",
        "from tflite_model_maker.image_classifier import DataLoader\n",
        "\n",
        "import tensorflow as tf\n",
        "assert tf.__version__.startswith('2')\n",
        "\n",
        "import matplotlib.pyplot as plt\n",
        "import numpy as np"
      ],
      "execution_count": 2,
      "outputs": [
        {
          "output_type": "stream",
          "name": "stderr",
          "text": [
            "/usr/local/lib/python3.7/dist-packages/resampy/interpn.py:114: NumbaWarning: The TBB threading layer requires TBB version 2019.5 or later i.e., TBB_INTERFACE_VERSION >= 11005. Found TBB_INTERFACE_VERSION = 9107. The TBB threading layer is disabled.\n",
            "  _resample_loop_p(x, t_out, interp_win, interp_delta, num_table, scale, y)\n"
          ]
        }
      ]
    },
    {
      "cell_type": "markdown",
      "metadata": {
        "id": "KKRaYHABpob5"
      },
      "source": [
        "## Simple End-to-End Example"
      ]
    },
    {
      "cell_type": "markdown",
      "metadata": {
        "id": "SiZZ5DHXotaW"
      },
      "source": [
        "### Get the data path\n",
        "\n",
        "Let's get some images to play with this simple end-to-end example. Hundreds of images is a good start for Model Maker while more data could achieve better accuracy."
      ]
    },
    {
      "cell_type": "code",
      "source": [
        "!tar -xvf helmet_photos.tgz"
      ],
      "metadata": {
        "id": "JORBojePcuAQ",
        "colab": {
          "base_uri": "https://localhost:8080/"
        },
        "outputId": "08bac196-2807-441b-960e-0ec46bbab34f"
      },
      "execution_count": 3,
      "outputs": [
        {
          "output_type": "stream",
          "name": "stdout",
          "text": [
            "helmet_photos/\n",
            "helmet_photos/without_helmet/\n",
            "helmet_photos/without_helmet/BikesHelmets10.png\n",
            "helmet_photos/without_helmet/BikesHelmets103.png\n",
            "helmet_photos/without_helmet/BikesHelmets110.png\n",
            "helmet_photos/without_helmet/BikesHelmets111.png\n",
            "helmet_photos/without_helmet/BikesHelmets112.png\n",
            "helmet_photos/without_helmet/BikesHelmets119.png\n",
            "helmet_photos/without_helmet/BikesHelmets128.png\n",
            "helmet_photos/without_helmet/BikesHelmets130.png\n",
            "helmet_photos/without_helmet/BikesHelmets133.png\n",
            "helmet_photos/without_helmet/BikesHelmets156.png\n",
            "helmet_photos/without_helmet/BikesHelmets168.png\n",
            "helmet_photos/without_helmet/BikesHelmets170.png\n",
            "helmet_photos/without_helmet/BikesHelmets175.png\n",
            "helmet_photos/without_helmet/BikesHelmets176.png\n",
            "helmet_photos/without_helmet/BikesHelmets31.png\n",
            "helmet_photos/without_helmet/BikesHelmets379.png\n",
            "helmet_photos/without_helmet/BikesHelmets384.png\n",
            "helmet_photos/without_helmet/BikesHelmets404.png\n",
            "helmet_photos/without_helmet/BikesHelmets406 (1).png\n",
            "helmet_photos/without_helmet/BikesHelmets406.png\n",
            "helmet_photos/without_helmet/BikesHelmets408.png\n",
            "helmet_photos/without_helmet/BikesHelmets412.png\n",
            "helmet_photos/without_helmet/BikesHelmets417.png\n",
            "helmet_photos/without_helmet/BikesHelmets420.png\n",
            "helmet_photos/without_helmet/BikesHelmets422.png\n",
            "helmet_photos/without_helmet/BikesHelmets423.png\n",
            "helmet_photos/without_helmet/BikesHelmets424.png\n",
            "helmet_photos/without_helmet/BikesHelmets429.png\n",
            "helmet_photos/without_helmet/BikesHelmets430.png\n",
            "helmet_photos/without_helmet/BikesHelmets431.png\n",
            "helmet_photos/without_helmet/BikesHelmets436.png\n",
            "helmet_photos/without_helmet/BikesHelmets438.png\n",
            "helmet_photos/without_helmet/BikesHelmets440.png\n",
            "helmet_photos/without_helmet/BikesHelmets441.png\n",
            "helmet_photos/without_helmet/BikesHelmets444.png\n",
            "helmet_photos/without_helmet/BikesHelmets447.png\n",
            "helmet_photos/without_helmet/BikesHelmets448.png\n",
            "helmet_photos/without_helmet/BikesHelmets45.png\n",
            "helmet_photos/without_helmet/BikesHelmets452.png\n",
            "helmet_photos/without_helmet/BikesHelmets466.png\n",
            "helmet_photos/without_helmet/BikesHelmets47.png\n",
            "helmet_photos/without_helmet/BikesHelmets471.png\n",
            "helmet_photos/without_helmet/BikesHelmets479.png\n",
            "helmet_photos/without_helmet/BikesHelmets485.png\n",
            "helmet_photos/without_helmet/BikesHelmets494.png\n",
            "helmet_photos/without_helmet/BikesHelmets5.png\n",
            "helmet_photos/without_helmet/BikesHelmets505.png\n",
            "helmet_photos/without_helmet/BikesHelmets513.png\n",
            "helmet_photos/without_helmet/BikesHelmets52.png\n",
            "helmet_photos/without_helmet/BikesHelmets526.png\n",
            "helmet_photos/without_helmet/BikesHelmets55.png\n",
            "helmet_photos/without_helmet/BikesHelmets556.png\n",
            "helmet_photos/without_helmet/BikesHelmets57.png\n",
            "helmet_photos/without_helmet/BikesHelmets577.png\n",
            "helmet_photos/without_helmet/BikesHelmets578.png\n",
            "helmet_photos/without_helmet/BikesHelmets583.png\n",
            "helmet_photos/without_helmet/BikesHelmets62.png\n",
            "helmet_photos/without_helmet/BikesHelmets630.png\n",
            "helmet_photos/without_helmet/BikesHelmets638.png\n",
            "helmet_photos/without_helmet/BikesHelmets66.png\n",
            "helmet_photos/without_helmet/BikesHelmets664.png\n",
            "helmet_photos/without_helmet/BikesHelmets67.png\n",
            "helmet_photos/without_helmet/BikesHelmets670.png\n",
            "helmet_photos/without_helmet/BikesHelmets684.png\n",
            "helmet_photos/without_helmet/BikesHelmets730.png\n",
            "helmet_photos/without_helmet/BikesHelmets734.png\n",
            "helmet_photos/without_helmet/BikesHelmets736.png\n",
            "helmet_photos/without_helmet/BikesHelmets739.png\n",
            "helmet_photos/without_helmet/BikesHelmets74.png\n",
            "helmet_photos/without_helmet/BikesHelmets743.png\n",
            "helmet_photos/without_helmet/BikesHelmets77.png\n",
            "helmet_photos/without_helmet/BikesHelmets78.png\n",
            "helmet_photos/without_helmet/BikesHelmets9.png\n",
            "helmet_photos/without_helmet/BikesHelmets93.png\n",
            "helmet_photos/without_helmet/BikesHelmets98.png\n",
            "helmet_photos/with_helmet/\n",
            "helmet_photos/with_helmet/BikesHelmets0.png\n",
            "helmet_photos/with_helmet/BikesHelmets1.png\n",
            "helmet_photos/with_helmet/BikesHelmets107.png\n",
            "helmet_photos/with_helmet/BikesHelmets108.png\n",
            "helmet_photos/with_helmet/BikesHelmets109.png\n",
            "helmet_photos/with_helmet/BikesHelmets114.png\n",
            "helmet_photos/with_helmet/BikesHelmets118.png\n",
            "helmet_photos/with_helmet/BikesHelmets120.png\n",
            "helmet_photos/with_helmet/BikesHelmets121.png\n",
            "helmet_photos/with_helmet/BikesHelmets122.png\n",
            "helmet_photos/with_helmet/BikesHelmets127.png\n",
            "helmet_photos/with_helmet/BikesHelmets129.png\n",
            "helmet_photos/with_helmet/BikesHelmets135.png\n",
            "helmet_photos/with_helmet/BikesHelmets136.png\n",
            "helmet_photos/with_helmet/BikesHelmets139.png\n",
            "helmet_photos/with_helmet/BikesHelmets147.png\n",
            "helmet_photos/with_helmet/BikesHelmets153.png\n",
            "helmet_photos/with_helmet/BikesHelmets155.png\n",
            "helmet_photos/with_helmet/BikesHelmets166.png\n",
            "helmet_photos/with_helmet/BikesHelmets177.png\n",
            "helmet_photos/with_helmet/BikesHelmets182.png\n",
            "helmet_photos/with_helmet/BikesHelmets183.png\n",
            "helmet_photos/with_helmet/BikesHelmets186.png\n",
            "helmet_photos/with_helmet/BikesHelmets187.png\n",
            "helmet_photos/with_helmet/BikesHelmets205.png\n",
            "helmet_photos/with_helmet/BikesHelmets206 (1).png\n",
            "helmet_photos/with_helmet/BikesHelmets206.png\n",
            "helmet_photos/with_helmet/BikesHelmets210.png\n",
            "helmet_photos/with_helmet/BikesHelmets211.png\n",
            "helmet_photos/with_helmet/BikesHelmets224.png\n",
            "helmet_photos/with_helmet/BikesHelmets225.png\n",
            "helmet_photos/with_helmet/BikesHelmets226.png\n",
            "helmet_photos/with_helmet/BikesHelmets227.png\n",
            "helmet_photos/with_helmet/BikesHelmets229.png\n",
            "helmet_photos/with_helmet/BikesHelmets233.png\n",
            "helmet_photos/with_helmet/BikesHelmets234.png\n",
            "helmet_photos/with_helmet/BikesHelmets240.png\n",
            "helmet_photos/with_helmet/BikesHelmets242.png\n",
            "helmet_photos/with_helmet/BikesHelmets243.png\n",
            "helmet_photos/with_helmet/BikesHelmets245.png\n",
            "helmet_photos/with_helmet/BikesHelmets246.png\n",
            "helmet_photos/with_helmet/BikesHelmets249.png\n",
            "helmet_photos/with_helmet/BikesHelmets261.png\n",
            "helmet_photos/with_helmet/BikesHelmets263.png\n",
            "helmet_photos/with_helmet/BikesHelmets264.png\n",
            "helmet_photos/with_helmet/BikesHelmets265 (1).png\n",
            "helmet_photos/with_helmet/BikesHelmets265.png\n",
            "helmet_photos/with_helmet/BikesHelmets268.png\n",
            "helmet_photos/with_helmet/BikesHelmets269.png\n",
            "helmet_photos/with_helmet/BikesHelmets270 (1).png\n",
            "helmet_photos/with_helmet/BikesHelmets270.png\n",
            "helmet_photos/with_helmet/BikesHelmets278.png\n",
            "helmet_photos/with_helmet/BikesHelmets279.png\n",
            "helmet_photos/with_helmet/BikesHelmets282.png\n",
            "helmet_photos/with_helmet/BikesHelmets288.png\n",
            "helmet_photos/with_helmet/BikesHelmets290.png\n",
            "helmet_photos/with_helmet/BikesHelmets292.png\n",
            "helmet_photos/with_helmet/BikesHelmets294.png\n",
            "helmet_photos/with_helmet/BikesHelmets301.png\n",
            "helmet_photos/with_helmet/BikesHelmets307 (1).png\n",
            "helmet_photos/with_helmet/BikesHelmets307.png\n",
            "helmet_photos/with_helmet/BikesHelmets309 (1).png\n",
            "helmet_photos/with_helmet/BikesHelmets309.png\n",
            "helmet_photos/with_helmet/BikesHelmets310.png\n",
            "helmet_photos/with_helmet/BikesHelmets312.png\n",
            "helmet_photos/with_helmet/BikesHelmets316.png\n",
            "helmet_photos/with_helmet/BikesHelmets326.png\n",
            "helmet_photos/with_helmet/BikesHelmets330.png\n",
            "helmet_photos/with_helmet/BikesHelmets337.png\n",
            "helmet_photos/with_helmet/BikesHelmets343.png\n",
            "helmet_photos/with_helmet/BikesHelmets345.png\n",
            "helmet_photos/with_helmet/BikesHelmets346.png\n",
            "helmet_photos/with_helmet/BikesHelmets348.png\n",
            "helmet_photos/with_helmet/BikesHelmets350.png\n",
            "helmet_photos/with_helmet/BikesHelmets352.png\n",
            "helmet_photos/with_helmet/BikesHelmets355.png\n",
            "helmet_photos/with_helmet/BikesHelmets361.png\n",
            "helmet_photos/with_helmet/BikesHelmets363.png\n",
            "helmet_photos/with_helmet/BikesHelmets373.png\n",
            "helmet_photos/with_helmet/BikesHelmets374 (1).png\n",
            "helmet_photos/with_helmet/BikesHelmets374.png\n",
            "helmet_photos/with_helmet/BikesHelmets380.png\n",
            "helmet_photos/with_helmet/BikesHelmets388 (1).png\n",
            "helmet_photos/with_helmet/BikesHelmets388.png\n",
            "helmet_photos/with_helmet/BikesHelmets390.png\n",
            "helmet_photos/with_helmet/BikesHelmets396 (1).png\n",
            "helmet_photos/with_helmet/BikesHelmets396.png\n",
            "helmet_photos/with_helmet/BikesHelmets400 (1).png\n",
            "helmet_photos/with_helmet/BikesHelmets400.png\n",
            "helmet_photos/with_helmet/BikesHelmets401.png\n",
            "helmet_photos/with_helmet/BikesHelmets407.png\n",
            "helmet_photos/with_helmet/BikesHelmets409.png\n",
            "helmet_photos/with_helmet/BikesHelmets410.png\n",
            "helmet_photos/with_helmet/BikesHelmets521.png\n",
            "helmet_photos/with_helmet/BikesHelmets536.png\n",
            "helmet_photos/with_helmet/BikesHelmets542.png\n",
            "helmet_photos/with_helmet/BikesHelmets543.png\n",
            "helmet_photos/with_helmet/BikesHelmets545.png\n",
            "helmet_photos/with_helmet/BikesHelmets551.png\n",
            "helmet_photos/with_helmet/BikesHelmets552.png\n",
            "helmet_photos/with_helmet/BikesHelmets680.png\n",
            "helmet_photos/with_helmet/BikesHelmets699.png\n",
            "helmet_photos/with_helmet/BikesHelmets704.png\n",
            "helmet_photos/with_helmet/BikesHelmets711.png\n",
            "helmet_photos/with_helmet/BikesHelmets712.png\n",
            "helmet_photos/with_helmet/BikesHelmets715.png\n",
            "helmet_photos/with_helmet/BikesHelmets720.png\n",
            "helmet_photos/with_helmet/BikesHelmets721.png\n",
            "helmet_photos/with_helmet/BikesHelmets722.png\n"
          ]
        }
      ]
    },
    {
      "cell_type": "markdown",
      "metadata": {
        "id": "w-VDriAdsowu"
      },
      "source": [
        "### Run the example\n",
        "The example just consists of 4 lines of code as shown below, each of which representing one step of the overall process.\n"
      ]
    },
    {
      "cell_type": "markdown",
      "metadata": {
        "id": "6ahtcO86tZBL"
      },
      "source": [
        "1.   Load input data specific to an on-device ML app. Split it to training data and testing data."
      ]
    },
    {
      "cell_type": "code",
      "metadata": {
        "id": "lANoNS_gtdH1",
        "colab": {
          "base_uri": "https://localhost:8080/"
        },
        "outputId": "1f5d1cff-a3d2-4d58-be5f-69e2dbe6b975"
      },
      "source": [
        "data = DataLoader.from_folder('helmet_photos')\n",
        "train_data, test_data = data.split(0.9)"
      ],
      "execution_count": 4,
      "outputs": [
        {
          "output_type": "stream",
          "name": "stdout",
          "text": [
            "INFO:tensorflow:Load image with size: 184, num_label: 2, labels: with_helmet, without_helmet.\n"
          ]
        }
      ]
    },
    {
      "cell_type": "markdown",
      "metadata": {
        "id": "Y_9IWyIztuRF"
      },
      "source": [
        "2. Customize the TensorFlow model."
      ]
    },
    {
      "cell_type": "code",
      "metadata": {
        "id": "yRXMZbrwtyRD",
        "colab": {
          "base_uri": "https://localhost:8080/"
        },
        "outputId": "c0162814-d403-41b2-ba72-e626a43f4efe"
      },
      "source": [
        "model = image_classifier.create(train_data)"
      ],
      "execution_count": 5,
      "outputs": [
        {
          "output_type": "stream",
          "name": "stdout",
          "text": [
            "INFO:tensorflow:Retraining the models...\n",
            "Model: \"sequential\"\n",
            "_________________________________________________________________\n",
            " Layer (type)                Output Shape              Param #   \n",
            "=================================================================\n",
            " hub_keras_layer_v1v2 (HubKe  (None, 1280)             3413024   \n",
            " rasLayerV1V2)                                                   \n",
            "                                                                 \n",
            " dropout (Dropout)           (None, 1280)              0         \n",
            "                                                                 \n",
            " dense (Dense)               (None, 2)                 2562      \n",
            "                                                                 \n",
            "=================================================================\n",
            "Total params: 3,415,586\n",
            "Trainable params: 2,562\n",
            "Non-trainable params: 3,413,024\n",
            "_________________________________________________________________\n",
            "None\n",
            "Epoch 1/5\n",
            "5/5 [==============================] - 14s 124ms/step - loss: 0.7122 - accuracy: 0.5562\n",
            "Epoch 2/5\n",
            "5/5 [==============================] - 2s 387ms/step - loss: 0.6211 - accuracy: 0.7250\n",
            "Epoch 3/5\n",
            "5/5 [==============================] - 2s 382ms/step - loss: 0.5356 - accuracy: 0.7750\n",
            "Epoch 4/5\n",
            "5/5 [==============================] - 2s 384ms/step - loss: 0.4804 - accuracy: 0.8062\n",
            "Epoch 5/5\n",
            "5/5 [==============================] - 2s 388ms/step - loss: 0.4469 - accuracy: 0.8438\n"
          ]
        }
      ]
    },
    {
      "cell_type": "markdown",
      "metadata": {
        "id": "oxU2fDr-t2Ya"
      },
      "source": [
        "3. Evaluate the model."
      ]
    },
    {
      "cell_type": "code",
      "metadata": {
        "id": "wQr02VxJt6Cs",
        "colab": {
          "base_uri": "https://localhost:8080/"
        },
        "outputId": "73148b22-cc1e-4a92-d982-dfdba21b5d94"
      },
      "source": [
        "loss, accuracy = model.evaluate(test_data)"
      ],
      "execution_count": 6,
      "outputs": [
        {
          "output_type": "stream",
          "name": "stdout",
          "text": [
            "1/1 [==============================] - 3s 3s/step - loss: 0.4865 - accuracy: 0.7895\n"
          ]
        }
      ]
    },
    {
      "cell_type": "markdown",
      "metadata": {
        "id": "eVZw9zU8t84y"
      },
      "source": [
        "4.  Export to TensorFlow Lite model.\n",
        "You could download it in the left sidebar same as the uploading part for your own use."
      ]
    },
    {
      "cell_type": "code",
      "metadata": {
        "id": "Zb-eIzfluCoa",
        "colab": {
          "base_uri": "https://localhost:8080/"
        },
        "outputId": "420cb9ad-ab15-4355-df98-09ff308cd335"
      },
      "source": [
        "model.export(export_dir='.')"
      ],
      "execution_count": 7,
      "outputs": [
        {
          "output_type": "stream",
          "name": "stdout",
          "text": [
            "INFO:tensorflow:Assets written to: /tmp/tmpt7x1df6d/assets\n"
          ]
        },
        {
          "output_type": "stream",
          "name": "stderr",
          "text": [
            "INFO:tensorflow:Assets written to: /tmp/tmpt7x1df6d/assets\n",
            "/usr/local/lib/python3.7/dist-packages/tensorflow/lite/python/convert.py:746: UserWarning: Statistics for quantized inputs were expected, but not specified; continuing anyway.\n",
            "  warnings.warn(\"Statistics for quantized inputs were expected, but not \"\n"
          ]
        },
        {
          "output_type": "stream",
          "name": "stdout",
          "text": [
            "INFO:tensorflow:Label file is inside the TFLite model with metadata.\n"
          ]
        },
        {
          "output_type": "stream",
          "name": "stderr",
          "text": [
            "INFO:tensorflow:Label file is inside the TFLite model with metadata.\n"
          ]
        },
        {
          "output_type": "stream",
          "name": "stdout",
          "text": [
            "INFO:tensorflow:Saving labels in /tmp/tmpz9xqmee2/labels.txt\n"
          ]
        },
        {
          "output_type": "stream",
          "name": "stderr",
          "text": [
            "INFO:tensorflow:Saving labels in /tmp/tmpz9xqmee2/labels.txt\n"
          ]
        },
        {
          "output_type": "stream",
          "name": "stdout",
          "text": [
            "INFO:tensorflow:TensorFlow Lite model exported successfully: ./model.tflite\n"
          ]
        },
        {
          "output_type": "stream",
          "name": "stderr",
          "text": [
            "INFO:tensorflow:TensorFlow Lite model exported successfully: ./model.tflite\n"
          ]
        }
      ]
    },
    {
      "cell_type": "markdown",
      "metadata": {
        "id": "pyju1qc_v-wy"
      },
      "source": [
        "5. Download the trained model by clicking on the folder icon on the left hand side. Right-click on \"model.tflite\" and select download. Or run the following code:"
      ]
    },
    {
      "cell_type": "code",
      "metadata": {
        "id": "7hSmJsgWM0Lp",
        "colab": {
          "base_uri": "https://localhost:8080/",
          "height": 17
        },
        "outputId": "fa5aa31c-7af0-49c7-c203-448f8d2b34a1"
      },
      "source": [
        "from google.colab import files\n",
        "files.download('model.tflite') "
      ],
      "execution_count": 8,
      "outputs": [
        {
          "output_type": "display_data",
          "data": {
            "text/plain": [
              "<IPython.core.display.Javascript object>"
            ],
            "application/javascript": [
              "\n",
              "    async function download(id, filename, size) {\n",
              "      if (!google.colab.kernel.accessAllowed) {\n",
              "        return;\n",
              "      }\n",
              "      const div = document.createElement('div');\n",
              "      const label = document.createElement('label');\n",
              "      label.textContent = `Downloading \"${filename}\": `;\n",
              "      div.appendChild(label);\n",
              "      const progress = document.createElement('progress');\n",
              "      progress.max = size;\n",
              "      div.appendChild(progress);\n",
              "      document.body.appendChild(div);\n",
              "\n",
              "      const buffers = [];\n",
              "      let downloaded = 0;\n",
              "\n",
              "      const channel = await google.colab.kernel.comms.open(id);\n",
              "      // Send a message to notify the kernel that we're ready.\n",
              "      channel.send({})\n",
              "\n",
              "      for await (const message of channel.messages) {\n",
              "        // Send a message to notify the kernel that we're ready.\n",
              "        channel.send({})\n",
              "        if (message.buffers) {\n",
              "          for (const buffer of message.buffers) {\n",
              "            buffers.push(buffer);\n",
              "            downloaded += buffer.byteLength;\n",
              "            progress.value = downloaded;\n",
              "          }\n",
              "        }\n",
              "      }\n",
              "      const blob = new Blob(buffers, {type: 'application/binary'});\n",
              "      const a = document.createElement('a');\n",
              "      a.href = window.URL.createObjectURL(blob);\n",
              "      a.download = filename;\n",
              "      div.appendChild(a);\n",
              "      a.click();\n",
              "      div.remove();\n",
              "    }\n",
              "  "
            ]
          },
          "metadata": {}
        },
        {
          "output_type": "display_data",
          "data": {
            "text/plain": [
              "<IPython.core.display.Javascript object>"
            ],
            "application/javascript": [
              "download(\"download_adf4b312-312a-4001-9e93-90eaa37ce2ac\", \"model.tflite\", 4005968)"
            ]
          },
          "metadata": {}
        }
      ]
    },
    {
      "cell_type": "markdown",
      "metadata": {
        "id": "QujcbgibNR1e"
      },
      "source": [
        "After this simple 5 steps, we can now continue to the next step in the [codelab](https://codelabs.developers.google.com/codelabs/recognize-flowers-with-tensorflow-on-android-beta/#2).\n",
        "\n",
        "For a more comprehensive guide to TFLite Model Maker, please refer to this [notebook](https://colab.sandbox.google.com/github/tensorflow/examples/blob/master/tensorflow_examples/lite/model_maker/demo/image_classification.ipynb) and its [documentation](https://github.com/tensorflow/examples/tree/master/tensorflow_examples/lite/model_maker)."
      ]
    }
  ]
}